{
 "cells": [
  {
   "cell_type": "code",
   "execution_count": 3,
   "id": "a4e92ed8",
   "metadata": {},
   "outputs": [],
   "source": [
    "class Library:\n",
    "    def __init__(self):\n",
    "        self.file = open(\"books.txt\", \"a+\")\n",
    "\n",
    "    def __del__(self):\n",
    "        self.file.close()\n",
    "    def list_books(self):\n",
    "        self.file.seek(0)\n",
    "        contents = self.file.read()\n",
    "        book_list = contents.splitlines()\n",
    "\n",
    "        for book in book_list:\n",
    "            book_info = book.split(',')\n",
    "            print(f\"Book: {book_info[0]}, Author: {book_info[1]}\")\n",
    "    def add_book(self):\n",
    "        title = input(\"Enter book title: \")\n",
    "        author = input(\"Enter book author: \")\n",
    "        release_year = input(\"Enter release year: \")\n",
    "        num_pages = input(\"Enter number of pages: \")\n",
    "\n",
    "        book_info = f\"{title},{author},{release_year},{num_pages}\\n\"\n",
    "        self.file.write(book_info)\n",
    "        \n",
    "    def remove_book(self):\n",
    "        title_to_remove = input(\"Enter the title of the book to remove: \")\n",
    "\n",
    "        self.file.seek(0)\n",
    "        book_list = self.file.read().splitlines()\n",
    "\n",
    "        index_to_remove = -1\n",
    "        for i, book in enumerate(book_list):\n",
    "            if title_to_remove in book:\n",
    "                index_to_remove = i\n",
    "                break\n",
    "\n",
    "        if index_to_remove != -1:\n",
    "            book_list.pop(index_to_remove)\n",
    "            self.file.truncate(0)\n",
    "            self.file.seek(0)\n",
    "            self.file.writelines(\"\\n\".join(book_list))\n",
    "        else:\n",
    "            print(\"Book not found.\")"
   ]
  },
  {
   "cell_type": "code",
   "execution_count": 4,
   "id": "8a4e46f9",
   "metadata": {},
   "outputs": [],
   "source": [
    "lib = Library()"
   ]
  },
  {
   "cell_type": "code",
   "execution_count": null,
   "id": "90d608e4",
   "metadata": {},
   "outputs": [
    {
     "name": "stdout",
     "output_type": "stream",
     "text": [
      "*** MENU***\n",
      "1) List Books\n",
      "2) Add Book\n",
      "3) Remove Book\n",
      "Enter your choice (1/2/3): 1\n",
      "Book: The Great Gatsby, Author:  F. Scott Fitzgerald\n",
      "Book: To Kill a Mockingbird, Author:  Harper Lee\n",
      "Book: 1984, Author:  George Orwell\n",
      "Book: Pride and Prejudice, Author:  Jane Austen\n",
      "Book: The Catcher in the Rye, Author:  J.D. Salinger\n",
      "Book: Moby-Dick, Author:  Herman Melville\n",
      "Book: The Lord of the Rings, Author:  J.R.R. Tolkien\n",
      "Book: Harry Potter and the Sorcerer's Stone, Author:  J.K. Rowling\n",
      "Book: The Hobbit, Author:  J.R.R. Tolkien\n",
      "Book: One Hundred Years of Solitude, Author:  Gabriel Garcia Marquez\n",
      "Book: Brave New World, Author:  Aldous Huxley\n",
      "Book: The Hitchhiker's Guide to the Galaxy, Author:  Douglas Adams\n",
      "Book: The Shining, Author:  Stephen King\n",
      "Book: The Odyssey, Author:  Homer\n",
      "Book: Fahrenheit 451, Author:  Ray Bradbury\n",
      "Book: Jane Eyre, Author:  Charlotte BrontÃ«\n",
      "Book: Wuthering Heights, Author:  Emily BrontÃ«\n",
      "Book: The Alchemist, Author:  Paulo Coelho\n",
      "Book: The Great Expectations, Author:  Charles Dickens\n",
      "Book: The Count of Monte Cristo, Author:  Alexandre Dumas\n",
      "*** MENU***\n",
      "1) List Books\n",
      "2) Add Book\n",
      "3) Remove Book\n",
      "Enter your choice (1/2/3): 2\n"
     ]
    }
   ],
   "source": [
    "while True:\n",
    "    print(\"*** MENU***\")\n",
    "    print(\"1) List Books\")\n",
    "    print(\"2) Add Book\")\n",
    "    print(\"3) Remove Book\")\n",
    "\n",
    "    choice = input(\"Enter your choice (1/2/3): \")\n",
    "\n",
    "    if choice == '1':\n",
    "        lib.list_books()\n",
    "    elif choice == '2':\n",
    "        lib.add_book()\n",
    "    elif choice == '3':\n",
    "        lib.remove_book()\n",
    "    else:\n",
    "        print(\"Invalid choice. Exiting...\")\n",
    "        break"
   ]
  },
  {
   "cell_type": "code",
   "execution_count": null,
   "id": "c59cd911",
   "metadata": {},
   "outputs": [],
   "source": []
  }
 ],
 "metadata": {
  "kernelspec": {
   "display_name": "Python 3 (ipykernel)",
   "language": "python",
   "name": "python3"
  },
  "language_info": {
   "codemirror_mode": {
    "name": "ipython",
    "version": 3
   },
   "file_extension": ".py",
   "mimetype": "text/x-python",
   "name": "python",
   "nbconvert_exporter": "python",
   "pygments_lexer": "ipython3",
   "version": "3.11.5"
  }
 },
 "nbformat": 4,
 "nbformat_minor": 5
}
